{
 "cells": [
  {
   "cell_type": "code",
   "execution_count": null,
   "id": "35b2643d",
   "metadata": {},
   "outputs": [],
   "source": [
    "from dotenv import load_dotenv\n",
    "import os \n",
    "\n",
    "import sys\n",
    "import google.protobuf.text_format as tf\n",
    "from bareunpy import Tagger\n",
    "\n",
    "#\n",
    "# you can API-KEY from https://bareun.ai/\n",
    "# 아래에 \"https://bareun.ai/\"에서 이메일 인증 후 발급받은 API KEY(\"koba-...\")를 입력해주세요. \"로그인-내정보 확인\"\n",
    "load_dotenv('../../')   # load .env\n",
    "API_KEY = os.environ.get('BAREUN_API_KEY') # <- 본인의 API KEY로 교체 \n",
    "\n",
    "# If you have your own localhost bareun.\n",
    "tagger = Tagger(API_KEY, 'localhost')\n",
    "# or if you have your own bareun which is running on 10.8.3.211:15656.\n",
    "tagger = Tagger(API_KEY, '10.8.3.211', 15656)\n",
    "\n",
    "\n",
    "# print results.\n",
    "res = tagger.tags([\"안녕하세요.\", \"반가워요!\"])\n"
   ]
  }
 ],
 "metadata": {
  "kernelspec": {
   "display_name": "thread",
   "language": "python",
   "name": "python3"
  },
  "language_info": {
   "codemirror_mode": {
    "name": "ipython",
    "version": 3
   },
   "file_extension": ".py",
   "mimetype": "text/x-python",
   "name": "python",
   "nbconvert_exporter": "python",
   "pygments_lexer": "ipython3",
   "version": "3.10.16"
  }
 },
 "nbformat": 4,
 "nbformat_minor": 5
}
