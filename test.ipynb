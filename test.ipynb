{
 "cells": [
  {
   "cell_type": "code",
   "execution_count": null,
   "id": "28fd1768",
   "metadata": {},
   "outputs": [
    {
     "name": "stdout",
     "output_type": "stream",
     "text": [
      "env: BAREUN_ROOT=\"/opt/bareun\"\n",
      "env: LD_LIBRARY_PATH=\"/opt/bareun/lib\"\n"
     ]
    },
    {
     "ename": "OSError",
     "evalue": "Background processes not supported.",
     "output_type": "error",
     "traceback": [
      "\u001b[0;31m---------------------------------------------------------------------------\u001b[0m",
      "\u001b[0;31mOSError\u001b[0m                                   Traceback (most recent call last)",
      "Cell \u001b[0;32mIn[9], line 3\u001b[0m\n\u001b[1;32m      1\u001b[0m get_ipython()\u001b[38;5;241m.\u001b[39mrun_line_magic(\u001b[38;5;124m'\u001b[39m\u001b[38;5;124menv\u001b[39m\u001b[38;5;124m'\u001b[39m, \u001b[38;5;124m'\u001b[39m\u001b[38;5;124mBAREUN_ROOT=\u001b[39m\u001b[38;5;124m\"\u001b[39m\u001b[38;5;124m/opt/bareun\u001b[39m\u001b[38;5;124m\"\u001b[39m\u001b[38;5;124m'\u001b[39m)\n\u001b[1;32m      2\u001b[0m get_ipython()\u001b[38;5;241m.\u001b[39mrun_line_magic(\u001b[38;5;124m'\u001b[39m\u001b[38;5;124menv\u001b[39m\u001b[38;5;124m'\u001b[39m, \u001b[38;5;124m'\u001b[39m\u001b[38;5;124mLD_LIBRARY_PATH=\u001b[39m\u001b[38;5;124m\"\u001b[39m\u001b[38;5;124m/opt/bareun/lib\u001b[39m\u001b[38;5;124m\"\u001b[39m\u001b[38;5;124m'\u001b[39m)\n\u001b[0;32m----> 3\u001b[0m \u001b[43mget_ipython\u001b[49m\u001b[43m(\u001b[49m\u001b[43m)\u001b[49m\u001b[38;5;241;43m.\u001b[39;49m\u001b[43msystem\u001b[49m\u001b[43m(\u001b[49m\u001b[38;5;124;43m'\u001b[39;49m\u001b[38;5;124;43msudo BAREUN_ROOT=\u001b[39;49m\u001b[38;5;124;43m\"\u001b[39;49m\u001b[38;5;124;43m/opt/bareun\u001b[39;49m\u001b[38;5;124;43m\"\u001b[39;49m\u001b[38;5;124;43m LD_LIBRARY_PATH=\u001b[39;49m\u001b[38;5;124;43m\"\u001b[39;49m\u001b[38;5;124;43m/opt/bareun/lib\u001b[39;49m\u001b[38;5;124;43m\"\u001b[39;49m\u001b[38;5;124;43m nohup /opt/bareun/bin/bareun&\u001b[39;49m\u001b[38;5;124;43m'\u001b[39;49m\u001b[43m)\u001b[49m\n",
      "File \u001b[0;32m~/miniconda3/envs/thread/lib/python3.10/site-packages/ipykernel/zmqshell.py:641\u001b[0m, in \u001b[0;36mZMQInteractiveShell.system_piped\u001b[0;34m(self, cmd)\u001b[0m\n\u001b[1;32m    634\u001b[0m \u001b[38;5;28;01mif\u001b[39;00m cmd\u001b[38;5;241m.\u001b[39mrstrip()\u001b[38;5;241m.\u001b[39mendswith(\u001b[38;5;124m\"\u001b[39m\u001b[38;5;124m&\u001b[39m\u001b[38;5;124m\"\u001b[39m):\n\u001b[1;32m    635\u001b[0m     \u001b[38;5;66;03m# this is *far* from a rigorous test\u001b[39;00m\n\u001b[1;32m    636\u001b[0m     \u001b[38;5;66;03m# We do not support backgrounding processes because we either use\u001b[39;00m\n\u001b[1;32m    637\u001b[0m     \u001b[38;5;66;03m# pexpect or pipes to read from.  Users can always just call\u001b[39;00m\n\u001b[1;32m    638\u001b[0m     \u001b[38;5;66;03m# os.system() or use ip.system=ip.system_raw\u001b[39;00m\n\u001b[1;32m    639\u001b[0m     \u001b[38;5;66;03m# if they really want a background process.\u001b[39;00m\n\u001b[1;32m    640\u001b[0m     msg \u001b[38;5;241m=\u001b[39m \u001b[38;5;124m\"\u001b[39m\u001b[38;5;124mBackground processes not supported.\u001b[39m\u001b[38;5;124m\"\u001b[39m\n\u001b[0;32m--> 641\u001b[0m     \u001b[38;5;28;01mraise\u001b[39;00m \u001b[38;5;167;01mOSError\u001b[39;00m(msg)\n\u001b[1;32m    643\u001b[0m \u001b[38;5;66;03m# we explicitly do NOT return the subprocess status code, because\u001b[39;00m\n\u001b[1;32m    644\u001b[0m \u001b[38;5;66;03m# a non-None value would trigger :func:`sys.displayhook` calls.\u001b[39;00m\n\u001b[1;32m    645\u001b[0m \u001b[38;5;66;03m# Instead, we store the exit_code in user_ns.\u001b[39;00m\n\u001b[1;32m    646\u001b[0m \u001b[38;5;66;03m# Also, protect system call from UNC paths on Windows here too\u001b[39;00m\n\u001b[1;32m    647\u001b[0m \u001b[38;5;66;03m# as is done in InteractiveShell.system_raw\u001b[39;00m\n\u001b[1;32m    648\u001b[0m \u001b[38;5;28;01mif\u001b[39;00m sys\u001b[38;5;241m.\u001b[39mplatform \u001b[38;5;241m==\u001b[39m \u001b[38;5;124m\"\u001b[39m\u001b[38;5;124mwin32\u001b[39m\u001b[38;5;124m\"\u001b[39m:\n",
      "\u001b[0;31mOSError\u001b[0m: Background processes not supported."
     ]
    }
   ],
   "source": [
    "%env BAREUN_ROOT=\"/opt/bareun\"\n",
    "%env LD_LIBRARY_PATH=\"/opt/bareun/lib\"\n",
    "! BAREUN_ROOT=\"/opt/bareun\" LD_LIBRARY_PATH=\"/opt/bareun/lib\" nohup /opt/bareun/bin/bareun&"
   ]
  },
  {
   "cell_type": "code",
   "execution_count": 10,
   "id": "4e82500d",
   "metadata": {},
   "outputs": [
    {
     "name": "stdout",
     "output_type": "stream",
     "text": [
      "ashofro+  100208   69607  0  3월20 ?      01:49:57 /bareun/bin/bareun\n",
      "ashofro+  100304   69607  0  3월20 ?      02:58:43 envoy -c /bareun/envoy.yaml --use-dynamic-base-id\n",
      "haseong+ 1897498 1838063  0 16:46 pts/4    00:00:00 /bin/bash -c ps -ef | grep bareun\n",
      "haseong+ 1897561 1897498  0 16:46 pts/4    00:00:00 grep bareun\n"
     ]
    }
   ],
   "source": [
    "!ps -ef | grep bareun"
   ]
  },
  {
   "cell_type": "code",
   "execution_count": 11,
   "id": "93717caa",
   "metadata": {},
   "outputs": [
    {
     "ename": "Exception",
     "evalue": "\n서버에 연결할 수 없습니다. 입력한 서버주소 [localhost:5656]가 정확한지 확인해 주세요.\n서버 메시지: failed to connect to all addresses; last error: UNKNOWN: ipv6:%5B::1%5D:5656: Failed to connect to remote host: connect: Connection refused (111)",
     "output_type": "error",
     "traceback": [
      "\u001b[0;31m---------------------------------------------------------------------------\u001b[0m",
      "\u001b[0;31m_InactiveRpcError\u001b[0m                         Traceback (most recent call last)",
      "File \u001b[0;32m~/miniconda3/envs/thread/lib/python3.10/site-packages/bareunpy/_lang_service_client.py:80\u001b[0m, in \u001b[0;36mBareunLanguageServiceClient.analyze_syntax\u001b[0;34m(self, content, domain, auto_split, auto_spacing, auto_jointing)\u001b[0m\n\u001b[1;32m     79\u001b[0m \u001b[38;5;28;01mtry\u001b[39;00m:\n\u001b[0;32m---> 80\u001b[0m     res, c \u001b[38;5;241m=\u001b[39m \u001b[38;5;28;43mself\u001b[39;49m\u001b[38;5;241;43m.\u001b[39;49m\u001b[43mstub\u001b[49m\u001b[38;5;241;43m.\u001b[39;49m\u001b[43mAnalyzeSyntax\u001b[49m\u001b[38;5;241;43m.\u001b[39;49m\u001b[43mwith_call\u001b[49m\u001b[43m(\u001b[49m\n\u001b[1;32m     81\u001b[0m \u001b[43m        \u001b[49m\u001b[43mrequest\u001b[49m\u001b[38;5;241;43m=\u001b[39;49m\u001b[43mreq\u001b[49m\u001b[43m,\u001b[49m\u001b[43m \u001b[49m\u001b[43mmetadata\u001b[49m\u001b[38;5;241;43m=\u001b[39;49m\u001b[38;5;28;43mself\u001b[39;49m\u001b[38;5;241;43m.\u001b[39;49m\u001b[43mmetadata\u001b[49m\u001b[43m)\u001b[49m\n\u001b[1;32m     82\u001b[0m     \u001b[38;5;28;01mreturn\u001b[39;00m res\n",
      "File \u001b[0;32m~/miniconda3/envs/thread/lib/python3.10/site-packages/grpc/_channel.py:1198\u001b[0m, in \u001b[0;36m_UnaryUnaryMultiCallable.with_call\u001b[0;34m(self, request, timeout, metadata, credentials, wait_for_ready, compression)\u001b[0m\n\u001b[1;32m   1192\u001b[0m (\n\u001b[1;32m   1193\u001b[0m     state,\n\u001b[1;32m   1194\u001b[0m     call,\n\u001b[1;32m   1195\u001b[0m ) \u001b[38;5;241m=\u001b[39m \u001b[38;5;28mself\u001b[39m\u001b[38;5;241m.\u001b[39m_blocking(\n\u001b[1;32m   1196\u001b[0m     request, timeout, metadata, credentials, wait_for_ready, compression\n\u001b[1;32m   1197\u001b[0m )\n\u001b[0;32m-> 1198\u001b[0m \u001b[38;5;28;01mreturn\u001b[39;00m \u001b[43m_end_unary_response_blocking\u001b[49m\u001b[43m(\u001b[49m\u001b[43mstate\u001b[49m\u001b[43m,\u001b[49m\u001b[43m \u001b[49m\u001b[43mcall\u001b[49m\u001b[43m,\u001b[49m\u001b[43m \u001b[49m\u001b[38;5;28;43;01mTrue\u001b[39;49;00m\u001b[43m,\u001b[49m\u001b[43m \u001b[49m\u001b[38;5;28;43;01mNone\u001b[39;49;00m\u001b[43m)\u001b[49m\n",
      "File \u001b[0;32m~/miniconda3/envs/thread/lib/python3.10/site-packages/grpc/_channel.py:1006\u001b[0m, in \u001b[0;36m_end_unary_response_blocking\u001b[0;34m(state, call, with_call, deadline)\u001b[0m\n\u001b[1;32m   1005\u001b[0m \u001b[38;5;28;01melse\u001b[39;00m:\n\u001b[0;32m-> 1006\u001b[0m     \u001b[38;5;28;01mraise\u001b[39;00m _InactiveRpcError(state)\n",
      "\u001b[0;31m_InactiveRpcError\u001b[0m: <_InactiveRpcError of RPC that terminated with:\n\tstatus = StatusCode.UNAVAILABLE\n\tdetails = \"failed to connect to all addresses; last error: UNKNOWN: ipv6:%5B::1%5D:5656: Failed to connect to remote host: connect: Connection refused (111)\"\n\tdebug_error_string = \"UNKNOWN:Error received from peer  {created_time:\"2025-04-09T16:46:23.689865504+09:00\", grpc_status:14, grpc_message:\"failed to connect to all addresses; last error: UNKNOWN: ipv6:%5B::1%5D:5656: Failed to connect to remote host: connect: Connection refused (111)\"}\"\n>",
      "\nThe above exception was the direct cause of the following exception:\n",
      "\u001b[0;31mException\u001b[0m                                 Traceback (most recent call last)",
      "Cell \u001b[0;32mIn[11], line 11\u001b[0m\n\u001b[1;32m      8\u001b[0m tagger \u001b[38;5;241m=\u001b[39m Tagger(API_KEY, \u001b[38;5;124m'\u001b[39m\u001b[38;5;124mlocalhost\u001b[39m\u001b[38;5;124m'\u001b[39m, port\u001b[38;5;241m=\u001b[39m\u001b[38;5;241m5656\u001b[39m)\n\u001b[1;32m     10\u001b[0m \u001b[38;5;66;03m# # 결과를 가져옵니다.\u001b[39;00m\n\u001b[0;32m---> 11\u001b[0m res \u001b[38;5;241m=\u001b[39m \u001b[43mtagger\u001b[49m\u001b[38;5;241;43m.\u001b[39;49m\u001b[43mtags\u001b[49m\u001b[43m(\u001b[49m\u001b[43m[\u001b[49m\u001b[38;5;124;43m\"\u001b[39;49m\u001b[38;5;124;43m안녕하세요.\u001b[39;49m\u001b[38;5;124;43m\"\u001b[39;49m\u001b[43m,\u001b[49m\u001b[43m \u001b[49m\u001b[38;5;124;43m\"\u001b[39;49m\u001b[38;5;124;43m바른을 사용해서 새로운 경험을 해보세요.\u001b[39;49m\u001b[38;5;124;43m\"\u001b[39;49m\u001b[43m]\u001b[49m\u001b[43m)\u001b[49m\n",
      "File \u001b[0;32m~/miniconda3/envs/thread/lib/python3.10/site-packages/bareunpy/_tagger.py:240\u001b[0m, in \u001b[0;36mTagger.tags\u001b[0;34m(self, phrase, auto_split, auto_spacing, auto_jointing)\u001b[0m\n\u001b[1;32m    238\u001b[0m p \u001b[38;5;241m=\u001b[39m \u001b[38;5;124m'\u001b[39m\u001b[38;5;130;01m\\n\u001b[39;00m\u001b[38;5;124m'\u001b[39m\u001b[38;5;241m.\u001b[39mjoin(phrase)\n\u001b[1;32m    239\u001b[0m \u001b[38;5;28;01mtry\u001b[39;00m:\n\u001b[0;32m--> 240\u001b[0m     res \u001b[38;5;241m=\u001b[39m \u001b[38;5;28;43mself\u001b[39;49m\u001b[38;5;241;43m.\u001b[39;49m\u001b[43mclient\u001b[49m\u001b[38;5;241;43m.\u001b[39;49m\u001b[43manalyze_syntax\u001b[49m\u001b[43m(\u001b[49m\u001b[43mp\u001b[49m\u001b[43m,\u001b[49m\u001b[43m \u001b[49m\u001b[38;5;28;43mself\u001b[39;49m\u001b[38;5;241;43m.\u001b[39;49m\u001b[43mdomain\u001b[49m\u001b[43m,\u001b[49m\u001b[43m \u001b[49m\u001b[43mauto_split\u001b[49m\u001b[38;5;241;43m=\u001b[39;49m\u001b[43mauto_split\u001b[49m\u001b[43m,\u001b[49m\u001b[43m \u001b[49m\u001b[43mauto_spacing\u001b[49m\u001b[38;5;241;43m=\u001b[39;49m\u001b[43mauto_spacing\u001b[49m\u001b[43m,\u001b[49m\u001b[43m \u001b[49m\u001b[43mauto_jointing\u001b[49m\u001b[38;5;241;43m=\u001b[39;49m\u001b[43mauto_jointing\u001b[49m\u001b[43m)\u001b[49m\n\u001b[1;32m    241\u001b[0m     \u001b[38;5;28;01mreturn\u001b[39;00m Tagged(p, res)\n\u001b[1;32m    242\u001b[0m \u001b[38;5;28;01mexcept\u001b[39;00m grpc\u001b[38;5;241m.\u001b[39mRpcError \u001b[38;5;28;01mas\u001b[39;00m e:\n",
      "File \u001b[0;32m~/miniconda3/envs/thread/lib/python3.10/site-packages/bareunpy/_lang_service_client.py:84\u001b[0m, in \u001b[0;36mBareunLanguageServiceClient.analyze_syntax\u001b[0;34m(self, content, domain, auto_split, auto_spacing, auto_jointing)\u001b[0m\n\u001b[1;32m     82\u001b[0m     \u001b[38;5;28;01mreturn\u001b[39;00m res\n\u001b[1;32m     83\u001b[0m \u001b[38;5;28;01mexcept\u001b[39;00m grpc\u001b[38;5;241m.\u001b[39mRpcError \u001b[38;5;28;01mas\u001b[39;00m e:\n\u001b[0;32m---> 84\u001b[0m     \u001b[38;5;28;43mself\u001b[39;49m\u001b[38;5;241;43m.\u001b[39;49m\u001b[43m_handle_grpc_error\u001b[49m\u001b[43m(\u001b[49m\u001b[43me\u001b[49m\u001b[43m)\u001b[49m\n\u001b[1;32m     85\u001b[0m \u001b[38;5;28;01mexcept\u001b[39;00m \u001b[38;5;167;01mException\u001b[39;00m \u001b[38;5;28;01mas\u001b[39;00m e2:\n\u001b[1;32m     86\u001b[0m     \u001b[38;5;28;01mimport\u001b[39;00m\u001b[38;5;250m \u001b[39m\u001b[38;5;21;01mtraceback\u001b[39;00m\n",
      "File \u001b[0;32m~/miniconda3/envs/thread/lib/python3.10/site-packages/bareunpy/_lang_service_client.py:46\u001b[0m, in \u001b[0;36mBareunLanguageServiceClient._handle_grpc_error\u001b[0;34m(self, e)\u001b[0m\n\u001b[1;32m     44\u001b[0m     message \u001b[38;5;241m=\u001b[39m \u001b[38;5;124mf\u001b[39m\u001b[38;5;124m'\u001b[39m\u001b[38;5;124m알 수 없는 오류가 발생했습니다.\u001b[39m\u001b[38;5;130;01m\\n\u001b[39;00m\u001b[38;5;124m서버 메시지: \u001b[39m\u001b[38;5;132;01m{\u001b[39;00mserver_message\u001b[38;5;132;01m}\u001b[39;00m\u001b[38;5;124m'\u001b[39m\n\u001b[1;32m     45\u001b[0m     \u001b[38;5;28;01mraise\u001b[39;00m e\n\u001b[0;32m---> 46\u001b[0m \u001b[38;5;28;01mraise\u001b[39;00m \u001b[38;5;167;01mException\u001b[39;00m(message) \u001b[38;5;28;01mfrom\u001b[39;00m\u001b[38;5;250m \u001b[39m\u001b[38;5;21;01me\u001b[39;00m\n",
      "\u001b[0;31mException\u001b[0m: \n서버에 연결할 수 없습니다. 입력한 서버주소 [localhost:5656]가 정확한지 확인해 주세요.\n서버 메시지: failed to connect to all addresses; last error: UNKNOWN: ipv6:%5B::1%5D:5656: Failed to connect to remote host: connect: Connection refused (111)"
     ]
    }
   ],
   "source": [
    "import sys\n",
    "from bareunpy import Tagger\n",
    "\n",
    "# 아래에 \"https://bareun.ai/\"에서 이메일 인증 후 발급받은 API KEY(\"koba-...\")를 입력해주세요. \"로그인-내정보 확인\"\n",
    "API_KEY=\"koba-FLHDGPY-JFCUCPY-USANFOY-JNVJU5A\" # <- 본인의 API KEY로 교체 \n",
    "\n",
    "# 방금 설치한 자신의 호스트에 접속합니다.\n",
    "tagger = Tagger(API_KEY, 'localhost', port=5656)\n",
    "\n",
    "# # 결과를 가져옵니다.\n",
    "res = tagger.tags([\"안녕하세요.\", \"바른을 사용해서 새로운 경험을 해보세요.\"])"
   ]
  },
  {
   "cell_type": "code",
   "execution_count": 12,
   "id": "a539ed41",
   "metadata": {},
   "outputs": [
    {
     "name": "stdout",
     "output_type": "stream",
     "text": [
      "env: BAREUN_ROOT=\"/opt/bareun\"\n",
      "env: LD_LIBRARY_PATH=\"/opt/bareun/lib\"\n"
     ]
    },
    {
     "ename": "OSError",
     "evalue": "Background processes not supported.",
     "output_type": "error",
     "traceback": [
      "\u001b[0;31m---------------------------------------------------------------------------\u001b[0m",
      "\u001b[0;31mOSError\u001b[0m                                   Traceback (most recent call last)",
      "Cell \u001b[0;32mIn[12], line 3\u001b[0m\n\u001b[1;32m      1\u001b[0m get_ipython()\u001b[38;5;241m.\u001b[39mrun_line_magic(\u001b[38;5;124m'\u001b[39m\u001b[38;5;124menv\u001b[39m\u001b[38;5;124m'\u001b[39m, \u001b[38;5;124m'\u001b[39m\u001b[38;5;124mBAREUN_ROOT=\u001b[39m\u001b[38;5;124m\"\u001b[39m\u001b[38;5;124m/opt/bareun\u001b[39m\u001b[38;5;124m\"\u001b[39m\u001b[38;5;124m'\u001b[39m)\n\u001b[1;32m      2\u001b[0m get_ipython()\u001b[38;5;241m.\u001b[39mrun_line_magic(\u001b[38;5;124m'\u001b[39m\u001b[38;5;124menv\u001b[39m\u001b[38;5;124m'\u001b[39m, \u001b[38;5;124m'\u001b[39m\u001b[38;5;124mLD_LIBRARY_PATH=\u001b[39m\u001b[38;5;124m\"\u001b[39m\u001b[38;5;124m/opt/bareun/lib\u001b[39m\u001b[38;5;124m\"\u001b[39m\u001b[38;5;124m'\u001b[39m)\n\u001b[0;32m----> 3\u001b[0m \u001b[43mget_ipython\u001b[49m\u001b[43m(\u001b[49m\u001b[43m)\u001b[49m\u001b[38;5;241;43m.\u001b[39;49m\u001b[43msystem\u001b[49m\u001b[43m(\u001b[49m\u001b[38;5;124;43m'\u001b[39;49m\u001b[38;5;124;43mBAREUN_ROOT=\u001b[39;49m\u001b[38;5;124;43m\"\u001b[39;49m\u001b[38;5;124;43m/opt/bareun\u001b[39;49m\u001b[38;5;124;43m\"\u001b[39;49m\u001b[38;5;124;43m LD_LIBRARY_PATH=\u001b[39;49m\u001b[38;5;124;43m\"\u001b[39;49m\u001b[38;5;124;43m/opt/bareun/lib\u001b[39;49m\u001b[38;5;124;43m\"\u001b[39;49m\u001b[38;5;124;43m nohup /opt/bareun/bin/bareun&\u001b[39;49m\u001b[38;5;124;43m'\u001b[39;49m\u001b[43m)\u001b[49m\n",
      "File \u001b[0;32m~/miniconda3/envs/thread/lib/python3.10/site-packages/ipykernel/zmqshell.py:641\u001b[0m, in \u001b[0;36mZMQInteractiveShell.system_piped\u001b[0;34m(self, cmd)\u001b[0m\n\u001b[1;32m    634\u001b[0m \u001b[38;5;28;01mif\u001b[39;00m cmd\u001b[38;5;241m.\u001b[39mrstrip()\u001b[38;5;241m.\u001b[39mendswith(\u001b[38;5;124m\"\u001b[39m\u001b[38;5;124m&\u001b[39m\u001b[38;5;124m\"\u001b[39m):\n\u001b[1;32m    635\u001b[0m     \u001b[38;5;66;03m# this is *far* from a rigorous test\u001b[39;00m\n\u001b[1;32m    636\u001b[0m     \u001b[38;5;66;03m# We do not support backgrounding processes because we either use\u001b[39;00m\n\u001b[1;32m    637\u001b[0m     \u001b[38;5;66;03m# pexpect or pipes to read from.  Users can always just call\u001b[39;00m\n\u001b[1;32m    638\u001b[0m     \u001b[38;5;66;03m# os.system() or use ip.system=ip.system_raw\u001b[39;00m\n\u001b[1;32m    639\u001b[0m     \u001b[38;5;66;03m# if they really want a background process.\u001b[39;00m\n\u001b[1;32m    640\u001b[0m     msg \u001b[38;5;241m=\u001b[39m \u001b[38;5;124m\"\u001b[39m\u001b[38;5;124mBackground processes not supported.\u001b[39m\u001b[38;5;124m\"\u001b[39m\n\u001b[0;32m--> 641\u001b[0m     \u001b[38;5;28;01mraise\u001b[39;00m \u001b[38;5;167;01mOSError\u001b[39;00m(msg)\n\u001b[1;32m    643\u001b[0m \u001b[38;5;66;03m# we explicitly do NOT return the subprocess status code, because\u001b[39;00m\n\u001b[1;32m    644\u001b[0m \u001b[38;5;66;03m# a non-None value would trigger :func:`sys.displayhook` calls.\u001b[39;00m\n\u001b[1;32m    645\u001b[0m \u001b[38;5;66;03m# Instead, we store the exit_code in user_ns.\u001b[39;00m\n\u001b[1;32m    646\u001b[0m \u001b[38;5;66;03m# Also, protect system call from UNC paths on Windows here too\u001b[39;00m\n\u001b[1;32m    647\u001b[0m \u001b[38;5;66;03m# as is done in InteractiveShell.system_raw\u001b[39;00m\n\u001b[1;32m    648\u001b[0m \u001b[38;5;28;01mif\u001b[39;00m sys\u001b[38;5;241m.\u001b[39mplatform \u001b[38;5;241m==\u001b[39m \u001b[38;5;124m\"\u001b[39m\u001b[38;5;124mwin32\u001b[39m\u001b[38;5;124m\"\u001b[39m:\n",
      "\u001b[0;31mOSError\u001b[0m: Background processes not supported."
     ]
    }
   ],
   "source": [
    "%env BAREUN_ROOT=\"/opt/bareun\"\n",
    "%env LD_LIBRARY_PATH=\"/opt/bareun/lib\"\n",
    "!BAREUN_ROOT=\"/opt/bareun\" LD_LIBRARY_PATH=\"/opt/bareun/lib\" nohup /opt/bareun/bin/bareun&"
   ]
  },
  {
   "cell_type": "code",
   "execution_count": null,
   "id": "bfb473e3",
   "metadata": {},
   "outputs": [],
   "source": []
  },
  {
   "cell_type": "code",
   "execution_count": null,
   "id": "dc301d2a",
   "metadata": {},
   "outputs": [],
   "source": []
  },
  {
   "cell_type": "code",
   "execution_count": 2,
   "id": "9484f86c",
   "metadata": {},
   "outputs": [
    {
     "data": {
      "text/html": [
       "<div>\n",
       "<style scoped>\n",
       "    .dataframe tbody tr th:only-of-type {\n",
       "        vertical-align: middle;\n",
       "    }\n",
       "\n",
       "    .dataframe tbody tr th {\n",
       "        vertical-align: top;\n",
       "    }\n",
       "\n",
       "    .dataframe thead th {\n",
       "        text-align: right;\n",
       "    }\n",
       "</style>\n",
       "<table border=\"1\" class=\"dataframe\">\n",
       "  <thead>\n",
       "    <tr style=\"text-align: right;\">\n",
       "      <th></th>\n",
       "      <th>title</th>\n",
       "      <th>description</th>\n",
       "      <th>published</th>\n",
       "      <th>link</th>\n",
       "      <th>media</th>\n",
       "    </tr>\n",
       "  </thead>\n",
       "  <tbody>\n",
       "    <tr>\n",
       "      <th>0</th>\n",
       "      <td>민주당 초선들 “韓, 이완규·함상훈 지명 철회 안하면 탄핵 추진\"</td>\n",
       "      <td>&lt;img alt=\"더불어민주당 초선의원 모임인 '더민초' 소속 의원들이 9일 오후 ...</td>\n",
       "      <td>Wed, 09 Apr 2025 07:15:17 +0000</td>\n",
       "      <td>https://www.chosun.com/politics/assembly/2025/...</td>\n",
       "      <td>조선닷컴</td>\n",
       "    </tr>\n",
       "    <tr>\n",
       "      <th>1</th>\n",
       "      <td>‘권한대행 헌법재판관 지명 금지’, 민주당 주도 법사위 통과</td>\n",
       "      <td>&lt;p&gt;대통령 권한대행이 대통령 몫의 헌법재판관을 지명할 수 없도록 하는 헌법재판소법...</td>\n",
       "      <td>Wed, 09 Apr 2025 02:03:47 +0000</td>\n",
       "      <td>https://www.chosun.com/politics/assembly/2025/...</td>\n",
       "      <td>조선닷컴</td>\n",
       "    </tr>\n",
       "    <tr>\n",
       "      <th>2</th>\n",
       "      <td>“새 시대의 박정희 되겠다”...이철우 경북지사 대선 출마 선언</td>\n",
       "      <td>&lt;img alt=\"이철우 경북도지사가 9일 오후 서울 여의도 국회 소통관에서 열린 ...</td>\n",
       "      <td>Wed, 09 Apr 2025 05:54:15 +0000</td>\n",
       "      <td>https://www.chosun.com/politics/politics_gener...</td>\n",
       "      <td>조선닷컴</td>\n",
       "    </tr>\n",
       "    <tr>\n",
       "      <th>3</th>\n",
       "      <td>김여정 “비핵화 사문화... 한미일, 아직도 실패한 꿈 속 헤매”</td>\n",
       "      <td>&lt;p&gt;북한 김여정 노동당 부부장은 9일 담화에서 비핵화에 대해 “사문화된 개념”이라...</td>\n",
       "      <td>Wed, 09 Apr 2025 06:34:05 +0000</td>\n",
       "      <td>https://www.chosun.com/politics/north_korea/20...</td>\n",
       "      <td>조선닷컴</td>\n",
       "    </tr>\n",
       "    <tr>\n",
       "      <th>4</th>\n",
       "      <td>유정복, 대선 출마 선언 “거짓·위선·선동 정치 끝내자”</td>\n",
       "      <td>&lt;p&gt;유정복 인천시장이 9일 대선 출마를 선언하면서 “거짓과 위선, 선동으로 국민을...</td>\n",
       "      <td>Wed, 09 Apr 2025 05:40:18 +0000</td>\n",
       "      <td>https://www.chosun.com/politics/politics_gener...</td>\n",
       "      <td>조선닷컴</td>\n",
       "    </tr>\n",
       "    <tr>\n",
       "      <th>...</th>\n",
       "      <td>...</td>\n",
       "      <td>...</td>\n",
       "      <td>...</td>\n",
       "      <td>...</td>\n",
       "      <td>...</td>\n",
       "    </tr>\n",
       "    <tr>\n",
       "      <th>456</th>\n",
       "      <td>합참 \"북한군 10여명 군사분계선 침범 후 북상…경고사격 실시\"</td>\n",
       "      <td>〈사진=합동참모본부 홈페이지〉오늘(8일) 오후 5시쯤 동부전선 비무장지대(DMZ)에...</td>\n",
       "      <td>Tue, 08 Apr 2025 18:20:06 +0900</td>\n",
       "      <td>https://news.jtbc.co.kr/article/NB12241952</td>\n",
       "      <td>JTBC</td>\n",
       "    </tr>\n",
       "    <tr>\n",
       "      <th>457</th>\n",
       "      <td>[반론보도] 〈초선들 호소에도 친윤·중진 '침묵'…'계엄의 밤' 국힘 대화방에선〉 관련</td>\n",
       "      <td>본 방송은 지난 12월 19일 방송된 JTBC 뉴스룸 〈초선들 호소에도 친윤&amp;mid...</td>\n",
       "      <td>Tue, 08 Apr 2025 17:43:53 +0900</td>\n",
       "      <td>https://news.jtbc.co.kr/article/NB12241919</td>\n",
       "      <td>JTBC</td>\n",
       "    </tr>\n",
       "    <tr>\n",
       "      <th>458</th>\n",
       "      <td>김동연, 9일 대선 출마 선언…저서 '분노를 넘어, 김동연' 출간</td>\n",
       "      <td>김동연 경기도지사 저서 '분노를 넘어, 김동연' 〈사진=연합뉴스〉차기 대통령 선거일...</td>\n",
       "      <td>Tue, 08 Apr 2025 17:38:18 +0900</td>\n",
       "      <td>https://news.jtbc.co.kr/article/NB12241916</td>\n",
       "      <td>JTBC</td>\n",
       "    </tr>\n",
       "    <tr>\n",
       "      <th>459</th>\n",
       "      <td>박지원 \"이완규 '국민의힘 활동' 사실이면 헌법재판관 무자격자\"</td>\n",
       "      <td>박지원 더불어민주당 의원. 〈자료사진=연합뉴스〉박지원 더불어민주당 의원은 오늘(8일...</td>\n",
       "      <td>Tue, 08 Apr 2025 17:17:23 +0900</td>\n",
       "      <td>https://news.jtbc.co.kr/article/NB12241911</td>\n",
       "      <td>JTBC</td>\n",
       "    </tr>\n",
       "    <tr>\n",
       "      <th>460</th>\n",
       "      <td>\"이러다 계엄 선언할 판\"…'이완규 지명' 한덕수에 날 선 발언 [현장영상]</td>\n",
       "      <td>조국혁신당 김선민 당 대표 권한대행은 오늘(8일) 기자회견을 열고 한 대행을 향해 ...</td>\n",
       "      <td>Tue, 08 Apr 2025 17:13:44 +0900</td>\n",
       "      <td>https://news.jtbc.co.kr/article/NB12241910</td>\n",
       "      <td>JTBC</td>\n",
       "    </tr>\n",
       "  </tbody>\n",
       "</table>\n",
       "<p>461 rows × 5 columns</p>\n",
       "</div>"
      ],
      "text/plain": [
       "                                                title  \\\n",
       "0                민주당 초선들 “韓, 이완규·함상훈 지명 철회 안하면 탄핵 추진\"   \n",
       "1                   ‘권한대행 헌법재판관 지명 금지’, 민주당 주도 법사위 통과   \n",
       "2                 “새 시대의 박정희 되겠다”...이철우 경북지사 대선 출마 선언   \n",
       "3                김여정 “비핵화 사문화... 한미일, 아직도 실패한 꿈 속 헤매”   \n",
       "4                     유정복, 대선 출마 선언 “거짓·위선·선동 정치 끝내자”   \n",
       "..                                                ...   \n",
       "456               합참 \"북한군 10여명 군사분계선 침범 후 북상…경고사격 실시\"   \n",
       "457  [반론보도] 〈초선들 호소에도 친윤·중진 '침묵'…'계엄의 밤' 국힘 대화방에선〉 관련   \n",
       "458              김동연, 9일 대선 출마 선언…저서 '분노를 넘어, 김동연' 출간   \n",
       "459               박지원 \"이완규 '국민의힘 활동' 사실이면 헌법재판관 무자격자\"   \n",
       "460        \"이러다 계엄 선언할 판\"…'이완규 지명' 한덕수에 날 선 발언 [현장영상]   \n",
       "\n",
       "                                           description  \\\n",
       "0    <img alt=\"더불어민주당 초선의원 모임인 '더민초' 소속 의원들이 9일 오후 ...   \n",
       "1    <p>대통령 권한대행이 대통령 몫의 헌법재판관을 지명할 수 없도록 하는 헌법재판소법...   \n",
       "2    <img alt=\"이철우 경북도지사가 9일 오후 서울 여의도 국회 소통관에서 열린 ...   \n",
       "3    <p>북한 김여정 노동당 부부장은 9일 담화에서 비핵화에 대해 “사문화된 개념”이라...   \n",
       "4    <p>유정복 인천시장이 9일 대선 출마를 선언하면서 “거짓과 위선, 선동으로 국민을...   \n",
       "..                                                 ...   \n",
       "456  〈사진=합동참모본부 홈페이지〉오늘(8일) 오후 5시쯤 동부전선 비무장지대(DMZ)에...   \n",
       "457  본 방송은 지난 12월 19일 방송된 JTBC 뉴스룸 〈초선들 호소에도 친윤&mid...   \n",
       "458  김동연 경기도지사 저서 '분노를 넘어, 김동연' 〈사진=연합뉴스〉차기 대통령 선거일...   \n",
       "459  박지원 더불어민주당 의원. 〈자료사진=연합뉴스〉박지원 더불어민주당 의원은 오늘(8일...   \n",
       "460  조국혁신당 김선민 당 대표 권한대행은 오늘(8일) 기자회견을 열고 한 대행을 향해 ...   \n",
       "\n",
       "                           published  \\\n",
       "0    Wed, 09 Apr 2025 07:15:17 +0000   \n",
       "1    Wed, 09 Apr 2025 02:03:47 +0000   \n",
       "2    Wed, 09 Apr 2025 05:54:15 +0000   \n",
       "3    Wed, 09 Apr 2025 06:34:05 +0000   \n",
       "4    Wed, 09 Apr 2025 05:40:18 +0000   \n",
       "..                               ...   \n",
       "456  Tue, 08 Apr 2025 18:20:06 +0900   \n",
       "457  Tue, 08 Apr 2025 17:43:53 +0900   \n",
       "458  Tue, 08 Apr 2025 17:38:18 +0900   \n",
       "459  Tue, 08 Apr 2025 17:17:23 +0900   \n",
       "460  Tue, 08 Apr 2025 17:13:44 +0900   \n",
       "\n",
       "                                                  link media  \n",
       "0    https://www.chosun.com/politics/assembly/2025/...  조선닷컴  \n",
       "1    https://www.chosun.com/politics/assembly/2025/...  조선닷컴  \n",
       "2    https://www.chosun.com/politics/politics_gener...  조선닷컴  \n",
       "3    https://www.chosun.com/politics/north_korea/20...  조선닷컴  \n",
       "4    https://www.chosun.com/politics/politics_gener...  조선닷컴  \n",
       "..                                                 ...   ...  \n",
       "456         https://news.jtbc.co.kr/article/NB12241952  JTBC  \n",
       "457         https://news.jtbc.co.kr/article/NB12241919  JTBC  \n",
       "458         https://news.jtbc.co.kr/article/NB12241916  JTBC  \n",
       "459         https://news.jtbc.co.kr/article/NB12241911  JTBC  \n",
       "460         https://news.jtbc.co.kr/article/NB12241910  JTBC  \n",
       "\n",
       "[461 rows x 5 columns]"
      ]
     },
     "execution_count": 2,
     "metadata": {},
     "output_type": "execute_result"
    }
   ],
   "source": [
    "import pandas as pd\n",
    "\n",
    "df =pd.read_csv(\"./data/political_news/political_news_20250409_1652.csv\")\n",
    "df"
   ]
  },
  {
   "cell_type": "code",
   "execution_count": 3,
   "id": "fde30f68",
   "metadata": {},
   "outputs": [
    {
     "ename": "Exception",
     "evalue": "Install MeCab in order to use it: http://konlpy.org/en/latest/install/",
     "output_type": "error",
     "traceback": [
      "\u001b[0;31m---------------------------------------------------------------------------\u001b[0m",
      "\u001b[0;31mNameError\u001b[0m                                 Traceback (most recent call last)",
      "File \u001b[0;32m~/miniconda3/envs/thread/lib/python3.10/site-packages/konlpy/tag/_mecab.py:77\u001b[0m, in \u001b[0;36mMecab.__init__\u001b[0;34m(self, dicpath)\u001b[0m\n\u001b[1;32m     76\u001b[0m \u001b[38;5;28;01mtry\u001b[39;00m:\n\u001b[0;32m---> 77\u001b[0m     \u001b[38;5;28mself\u001b[39m\u001b[38;5;241m.\u001b[39mtagger \u001b[38;5;241m=\u001b[39m \u001b[43mTagger\u001b[49m(\u001b[38;5;124m'\u001b[39m\u001b[38;5;124m-d \u001b[39m\u001b[38;5;132;01m%s\u001b[39;00m\u001b[38;5;124m'\u001b[39m \u001b[38;5;241m%\u001b[39m dicpath)\n\u001b[1;32m     78\u001b[0m     \u001b[38;5;28mself\u001b[39m\u001b[38;5;241m.\u001b[39mtagset \u001b[38;5;241m=\u001b[39m utils\u001b[38;5;241m.\u001b[39mread_json(\u001b[38;5;124m'\u001b[39m\u001b[38;5;132;01m%s\u001b[39;00m\u001b[38;5;124m/data/tagset/mecab.json\u001b[39m\u001b[38;5;124m'\u001b[39m \u001b[38;5;241m%\u001b[39m utils\u001b[38;5;241m.\u001b[39minstallpath)\n",
      "\u001b[0;31mNameError\u001b[0m: name 'Tagger' is not defined",
      "\nDuring handling of the above exception, another exception occurred:\n",
      "\u001b[0;31mException\u001b[0m                                 Traceback (most recent call last)",
      "Cell \u001b[0;32mIn[3], line 2\u001b[0m\n\u001b[1;32m      1\u001b[0m \u001b[38;5;28;01mfrom\u001b[39;00m\u001b[38;5;250m \u001b[39m\u001b[38;5;21;01mkonlpy\u001b[39;00m\u001b[38;5;21;01m.\u001b[39;00m\u001b[38;5;21;01mtag\u001b[39;00m\u001b[38;5;250m \u001b[39m\u001b[38;5;28;01mimport\u001b[39;00m Mecab\n\u001b[0;32m----> 2\u001b[0m m \u001b[38;5;241m=\u001b[39m \u001b[43mMecab\u001b[49m\u001b[43m(\u001b[49m\u001b[43m)\u001b[49m\n\u001b[1;32m      3\u001b[0m test_sentence \u001b[38;5;241m=\u001b[39m \u001b[38;5;124m\"\u001b[39m\u001b[38;5;124m아버지가방에들어가신다\u001b[39m\u001b[38;5;124m\"\u001b[39m\n\u001b[1;32m      4\u001b[0m \u001b[38;5;28mprint\u001b[39m(m\u001b[38;5;241m.\u001b[39mmorphs(test_sentence))\n",
      "File \u001b[0;32m~/miniconda3/envs/thread/lib/python3.10/site-packages/konlpy/tag/_mecab.py:82\u001b[0m, in \u001b[0;36mMecab.__init__\u001b[0;34m(self, dicpath)\u001b[0m\n\u001b[1;32m     80\u001b[0m     \u001b[38;5;28;01mraise\u001b[39;00m \u001b[38;5;167;01mException\u001b[39;00m(\u001b[38;5;124m'\u001b[39m\u001b[38;5;124mThe MeCab dictionary does not exist at \u001b[39m\u001b[38;5;124m\"\u001b[39m\u001b[38;5;132;01m%s\u001b[39;00m\u001b[38;5;124m\"\u001b[39m\u001b[38;5;124m. Is the dictionary correctly installed?\u001b[39m\u001b[38;5;130;01m\\n\u001b[39;00m\u001b[38;5;124mYou can also try entering the dictionary path when initializing the Mecab class: \u001b[39m\u001b[38;5;124m\"\u001b[39m\u001b[38;5;124mMecab(\u001b[39m\u001b[38;5;130;01m\\'\u001b[39;00m\u001b[38;5;124m/some/dic/path\u001b[39m\u001b[38;5;130;01m\\'\u001b[39;00m\u001b[38;5;124m)\u001b[39m\u001b[38;5;124m\"\u001b[39m\u001b[38;5;124m'\u001b[39m \u001b[38;5;241m%\u001b[39m dicpath)\n\u001b[1;32m     81\u001b[0m \u001b[38;5;28;01mexcept\u001b[39;00m \u001b[38;5;167;01mNameError\u001b[39;00m:\n\u001b[0;32m---> 82\u001b[0m     \u001b[38;5;28;01mraise\u001b[39;00m \u001b[38;5;167;01mException\u001b[39;00m(\u001b[38;5;124m'\u001b[39m\u001b[38;5;124mInstall MeCab in order to use it: http://konlpy.org/en/latest/install/\u001b[39m\u001b[38;5;124m'\u001b[39m)\n",
      "\u001b[0;31mException\u001b[0m: Install MeCab in order to use it: http://konlpy.org/en/latest/install/"
     ]
    }
   ],
   "source": [
    "from konlpy.tag import Mecab\n",
    "m = Mecab()\n",
    "test_sentence = \"아버지가방에들어가신다\"\n",
    "print(m.morphs(test_sentence))\n",
    "['아버지', '가', '방', '에', '들어가', '신다']"
   ]
  }
 ],
 "metadata": {
  "kernelspec": {
   "display_name": "thread",
   "language": "python",
   "name": "python3"
  },
  "language_info": {
   "codemirror_mode": {
    "name": "ipython",
    "version": 3
   },
   "file_extension": ".py",
   "mimetype": "text/x-python",
   "name": "python",
   "nbconvert_exporter": "python",
   "pygments_lexer": "ipython3",
   "version": "3.10.16"
  }
 },
 "nbformat": 4,
 "nbformat_minor": 5
}
