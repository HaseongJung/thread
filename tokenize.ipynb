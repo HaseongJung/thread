{
 "cells": [
  {
   "cell_type": "code",
   "execution_count": 3,
   "id": "b33b4a3e",
   "metadata": {},
   "outputs": [
    {
     "name": "stderr",
     "output_type": "stream",
     "text": [
      "[nltk_data] Downloading package stopwords to\n",
      "[nltk_data]     /home/haseong8012/nltk_data...\n",
      "[nltk_data]   Package stopwords is already up-to-date!\n"
     ]
    }
   ],
   "source": [
    "# Config\n",
    "from dotenv import load_dotenv\n",
    "import os \n",
    "import sys\n",
    "import google.protobuf.text_format as tf\n",
    "import re\n",
    "from bareunpy import Tagger\n",
    "from bareunpy import Tokenizer\n",
    "import nltk\n",
    "from tqdm import tqdm\n",
    "tqdm.pandas() \n",
    "\n",
    "\n",
    "nltk.download('stopwords')\n",
    "\n",
    "load_dotenv('../../')   # load .env\n",
    "API_KEY = os.environ.get('BAREUN_API_KEY') "
   ]
  },
  {
   "cell_type": "code",
   "execution_count": 4,
   "id": "e05870eb",
   "metadata": {},
   "outputs": [
    {
     "name": "stdout",
     "output_type": "stream",
     "text": [
      "/mnt/hdd/haseong8012/thread/src/preprocessing\n"
     ]
    }
   ],
   "source": [
    "import os\n",
    "\n",
    "print(os.getcwd())"
   ]
  },
  {
   "cell_type": "code",
   "execution_count": 5,
   "id": "a5327ad5",
   "metadata": {},
   "outputs": [
    {
     "data": {
      "text/html": [
       "<div>\n",
       "<style scoped>\n",
       "    .dataframe tbody tr th:only-of-type {\n",
       "        vertical-align: middle;\n",
       "    }\n",
       "\n",
       "    .dataframe tbody tr th {\n",
       "        vertical-align: top;\n",
       "    }\n",
       "\n",
       "    .dataframe thead th {\n",
       "        text-align: right;\n",
       "    }\n",
       "</style>\n",
       "<table border=\"1\" class=\"dataframe\">\n",
       "  <thead>\n",
       "    <tr style=\"text-align: right;\">\n",
       "      <th></th>\n",
       "      <th>title</th>\n",
       "      <th>description</th>\n",
       "      <th>published</th>\n",
       "      <th>link</th>\n",
       "      <th>media</th>\n",
       "    </tr>\n",
       "  </thead>\n",
       "  <tbody>\n",
       "    <tr>\n",
       "      <th>0</th>\n",
       "      <td>韓대행 “美 관세, 보복이 아니라 소통과 한미 동맹 격상이 해법”</td>\n",
       "      <td>&lt;img alt=\"한덕수 대통령 권한대행 국무총리가 지난 8일 정부서울청사 집무실에...</td>\n",
       "      <td>Wed, 09 Apr 2025 11:14:25 +0000</td>\n",
       "      <td>https://www.chosun.com/politics/goverment/2025...</td>\n",
       "      <td>조선닷컴</td>\n",
       "    </tr>\n",
       "    <tr>\n",
       "      <th>1</th>\n",
       "      <td>선관위원장 “대선 때 수검표... 사전투표함 보관소 24시간 영상 공개”</td>\n",
       "      <td>&lt;img alt=\"노태악 중앙선거관리위원장이 9일 오전 경기 과천시 중앙선거관리위원...</td>\n",
       "      <td>Wed, 09 Apr 2025 08:00:22 +0000</td>\n",
       "      <td>https://www.chosun.com/politics/politics_gener...</td>\n",
       "      <td>조선닷컴</td>\n",
       "    </tr>\n",
       "    <tr>\n",
       "      <th>2</th>\n",
       "      <td>이완규, ‘국민의힘 당적 논란’에 “정당 가입한 적 없다”</td>\n",
       "      <td>&lt;p&gt;헌법재판관 후보자로 지명된 이완규 법제처장은 민주당 일각에서 제기된 ‘국민의힘...</td>\n",
       "      <td>Wed, 09 Apr 2025 03:42:04 +0000</td>\n",
       "      <td>https://www.chosun.com/national/court_law/2025...</td>\n",
       "      <td>조선닷컴</td>\n",
       "    </tr>\n",
       "    <tr>\n",
       "      <th>3</th>\n",
       "      <td>민주당 초선들 “韓, 이완규·함상훈 지명 철회 안하면 탄핵 추진\"</td>\n",
       "      <td>&lt;img alt=\"더불어민주당 초선의원 모임인 '더민초' 소속 의원들이 9일 오후 ...</td>\n",
       "      <td>Wed, 09 Apr 2025 07:15:17 +0000</td>\n",
       "      <td>https://www.chosun.com/politics/assembly/2025/...</td>\n",
       "      <td>조선닷컴</td>\n",
       "    </tr>\n",
       "    <tr>\n",
       "      <th>4</th>\n",
       "      <td>‘권한대행 헌법재판관 지명 금지’, 민주당 주도 법사위 통과</td>\n",
       "      <td>&lt;p&gt;대통령 권한대행이 대통령 몫의 헌법재판관을 지명할 수 없도록 하는 헌법재판소법...</td>\n",
       "      <td>Wed, 09 Apr 2025 02:03:47 +0000</td>\n",
       "      <td>https://www.chosun.com/politics/assembly/2025/...</td>\n",
       "      <td>조선닷컴</td>\n",
       "    </tr>\n",
       "    <tr>\n",
       "      <th>...</th>\n",
       "      <td>...</td>\n",
       "      <td>...</td>\n",
       "      <td>...</td>\n",
       "      <td>...</td>\n",
       "      <td>...</td>\n",
       "    </tr>\n",
       "    <tr>\n",
       "      <th>458</th>\n",
       "      <td>한 대행 '계엄 피의자' 재판관 지명에…민주 \"원천 무효\" 반발</td>\n",
       "      <td>[앵커]\\n\\n한덕수 대통령 권한대행이 대통령 몫인 헌법재판관 후보자 두 명을 기습...</td>\n",
       "      <td>Wed, 09 Apr 2025 08:02:51 +0900</td>\n",
       "      <td>https://news.jtbc.co.kr/article/NB12241976</td>\n",
       "      <td>JTBC</td>\n",
       "    </tr>\n",
       "    <tr>\n",
       "      <th>459</th>\n",
       "      <td>오늘의 주요뉴스</td>\n",
       "      <td>1. 한-트럼프 첫 통화&amp;hellip;방위비&amp;middot;관세 논의\\n\\n한덕수 대...</td>\n",
       "      <td>Wed, 09 Apr 2025 07:38:41 +0900</td>\n",
       "      <td>https://news.jtbc.co.kr/article/NB12241986</td>\n",
       "      <td>JTBC</td>\n",
       "    </tr>\n",
       "    <tr>\n",
       "      <th>460</th>\n",
       "      <td>한덕수-트럼프 28분 첫 통화…관세·방위비 등 압박</td>\n",
       "      <td>8일 밤 오후 9시 3분.\\n한덕수 대통령 권한대행 국무총리와 도널드 트럼프 미국 ...</td>\n",
       "      <td>Wed, 09 Apr 2025 00:41:34 +0900</td>\n",
       "      <td>https://news.jtbc.co.kr/article/NB12241970</td>\n",
       "      <td>JTBC</td>\n",
       "    </tr>\n",
       "    <tr>\n",
       "      <th>461</th>\n",
       "      <td>한 대행 CNN 인터뷰…\"미 관세, 맞서지 않고 협상할 것\"</td>\n",
       "      <td>미국 CNN과 인터뷰한 한덕수 대통령 권한대행 국무총리. 〈사진=CNN 캡처〉한덕수...</td>\n",
       "      <td>Wed, 09 Apr 2025 00:00:29 +0900</td>\n",
       "      <td>https://news.jtbc.co.kr/article/NB12241969</td>\n",
       "      <td>JTBC</td>\n",
       "    </tr>\n",
       "    <tr>\n",
       "      <th>462</th>\n",
       "      <td>한 대행-트럼프 통화…“조선ㆍLNGㆍ무역균형 협력, 한미동행 재확인”</td>\n",
       "      <td>한덕수 대통령 권한대행 국무총리가 8일 정부서울청사 집무실에서 도널드 트럼프 미국 ...</td>\n",
       "      <td>Tue, 08 Apr 2025 21:29:56 +0900</td>\n",
       "      <td>https://news.jtbc.co.kr/article/NB12241963</td>\n",
       "      <td>JTBC</td>\n",
       "    </tr>\n",
       "  </tbody>\n",
       "</table>\n",
       "<p>463 rows × 5 columns</p>\n",
       "</div>"
      ],
      "text/plain": [
       "                                        title  \\\n",
       "0        韓대행 “美 관세, 보복이 아니라 소통과 한미 동맹 격상이 해법”   \n",
       "1    선관위원장 “대선 때 수검표... 사전투표함 보관소 24시간 영상 공개”   \n",
       "2            이완규, ‘국민의힘 당적 논란’에 “정당 가입한 적 없다”   \n",
       "3        민주당 초선들 “韓, 이완규·함상훈 지명 철회 안하면 탄핵 추진\"   \n",
       "4           ‘권한대행 헌법재판관 지명 금지’, 민주당 주도 법사위 통과   \n",
       "..                                        ...   \n",
       "458       한 대행 '계엄 피의자' 재판관 지명에…민주 \"원천 무효\" 반발   \n",
       "459                                  오늘의 주요뉴스   \n",
       "460              한덕수-트럼프 28분 첫 통화…관세·방위비 등 압박   \n",
       "461         한 대행 CNN 인터뷰…\"미 관세, 맞서지 않고 협상할 것\"   \n",
       "462    한 대행-트럼프 통화…“조선ㆍLNGㆍ무역균형 협력, 한미동행 재확인”   \n",
       "\n",
       "                                           description  \\\n",
       "0    <img alt=\"한덕수 대통령 권한대행 국무총리가 지난 8일 정부서울청사 집무실에...   \n",
       "1    <img alt=\"노태악 중앙선거관리위원장이 9일 오전 경기 과천시 중앙선거관리위원...   \n",
       "2    <p>헌법재판관 후보자로 지명된 이완규 법제처장은 민주당 일각에서 제기된 ‘국민의힘...   \n",
       "3    <img alt=\"더불어민주당 초선의원 모임인 '더민초' 소속 의원들이 9일 오후 ...   \n",
       "4    <p>대통령 권한대행이 대통령 몫의 헌법재판관을 지명할 수 없도록 하는 헌법재판소법...   \n",
       "..                                                 ...   \n",
       "458  [앵커]\\n\\n한덕수 대통령 권한대행이 대통령 몫인 헌법재판관 후보자 두 명을 기습...   \n",
       "459  1. 한-트럼프 첫 통화&hellip;방위비&middot;관세 논의\\n\\n한덕수 대...   \n",
       "460  8일 밤 오후 9시 3분.\\n한덕수 대통령 권한대행 국무총리와 도널드 트럼프 미국 ...   \n",
       "461  미국 CNN과 인터뷰한 한덕수 대통령 권한대행 국무총리. 〈사진=CNN 캡처〉한덕수...   \n",
       "462  한덕수 대통령 권한대행 국무총리가 8일 정부서울청사 집무실에서 도널드 트럼프 미국 ...   \n",
       "\n",
       "                           published  \\\n",
       "0    Wed, 09 Apr 2025 11:14:25 +0000   \n",
       "1    Wed, 09 Apr 2025 08:00:22 +0000   \n",
       "2    Wed, 09 Apr 2025 03:42:04 +0000   \n",
       "3    Wed, 09 Apr 2025 07:15:17 +0000   \n",
       "4    Wed, 09 Apr 2025 02:03:47 +0000   \n",
       "..                               ...   \n",
       "458  Wed, 09 Apr 2025 08:02:51 +0900   \n",
       "459  Wed, 09 Apr 2025 07:38:41 +0900   \n",
       "460  Wed, 09 Apr 2025 00:41:34 +0900   \n",
       "461  Wed, 09 Apr 2025 00:00:29 +0900   \n",
       "462  Tue, 08 Apr 2025 21:29:56 +0900   \n",
       "\n",
       "                                                  link media  \n",
       "0    https://www.chosun.com/politics/goverment/2025...  조선닷컴  \n",
       "1    https://www.chosun.com/politics/politics_gener...  조선닷컴  \n",
       "2    https://www.chosun.com/national/court_law/2025...  조선닷컴  \n",
       "3    https://www.chosun.com/politics/assembly/2025/...  조선닷컴  \n",
       "4    https://www.chosun.com/politics/assembly/2025/...  조선닷컴  \n",
       "..                                                 ...   ...  \n",
       "458         https://news.jtbc.co.kr/article/NB12241976  JTBC  \n",
       "459         https://news.jtbc.co.kr/article/NB12241986  JTBC  \n",
       "460         https://news.jtbc.co.kr/article/NB12241970  JTBC  \n",
       "461         https://news.jtbc.co.kr/article/NB12241969  JTBC  \n",
       "462         https://news.jtbc.co.kr/article/NB12241963  JTBC  \n",
       "\n",
       "[463 rows x 5 columns]"
      ]
     },
     "execution_count": 5,
     "metadata": {},
     "output_type": "execute_result"
    }
   ],
   "source": [
    "# Load data\n",
    "import pandas as pd\n",
    "\n",
    "data_path = \"../../data/political_news/political_news_20250409_2109.csv\" \n",
    "df = pd.read_csv(data_path)\n",
    "df"
   ]
  },
  {
   "cell_type": "code",
   "execution_count": 14,
   "id": "4025d96a",
   "metadata": {},
   "outputs": [
    {
     "data": {
      "application/vnd.jupyter.widget-view+json": {
       "model_id": "f05a304b70fb430b9b9b33003ec4c9a3",
       "version_major": 2,
       "version_minor": 0
      },
      "text/plain": [
       "  0%|          | 0/463 [00:00<?, ?it/s]"
      ]
     },
     "metadata": {},
     "output_type": "display_data"
    },
    {
     "name": "stdout",
     "output_type": "stream",
     "text": [
      "['<', 'img', 'alt', '=', '\"', '한덕수', '대통령', '권한', '대행', '국무총리', '가', '지나', 'ㄴ', '8', '일', '정부서울청사', '집무실', '에서', '도널드', '트럼프', '미국', '대통령', '과', '통화', '하', '고', '있', '다', '(', '왼쪽', '사진', ')', '.', '지나', 'ㄴ', '1', '월', '트럼프', '대통령', '취임', '이후', '한미', '정상', '간', '직', '접', '소통', '은', '이번', '이', '처음', '이', '다', '.', '통화', '는', '28', '분', '간', '이뤄지', '었', '다고', '국무총리실', '은', '밝히', '었', '다', '.', '오른쪽', '은', '트럼프', '대통령', '이', '2018', '년', '11', '월', '트럼프', '행정부', '1', '기', '때', '통화', '하', '는', '모습', '.', '/', '국무총리실', '·', 'AP', '연합', '뉴스', '\"', 'height', '=', '\"', '1000', '\"', 'src', '=\"', 'https', '://', 'www', '.', 'chosun', '.', 'com', '/', 'resizer', '/', 'v', '2', '/', 'Q', '7', 'PR', '7', 'IMD', '3', 'JESNJPS', '7', 'X', '7', 'UXOM', '7', 'WQ', '.', 'jpg', '?', 'width', '=', '1600', '&', 'amp', ';', 'height', '=', '1000', '&', 'amp', ';', 'auth', '=', 'a', '5830', 'd', '623', 'e5', 'ed', '4', 'c', '3557', 'd', '36', 'c', '8', 'd', '8', 'bac', '4913', 'cda', '9c', '87', 'f4', 'd', '5', 'c', '417320', 'babda', '239', 'e8', 'a02', '&', 'amp', ';', 'smart', '=', 'true', '\"', 'width', '=', '\"', '1600', '\"', '/', '>', '<', 'p', '>', '한덕수', '대통령', '권한', '대행', '국무총리', '가', '9', '일', '미국', '이', '한국', '을', '비롯하', 'ㄴ', '각국', '을', '상대', '로', '이른바', '‘', '상호', '관세', '’', '를', '발효', '하', 'ㄴ', '것', '에', '대하', '아', '“', '보복', '관세', '로', '강경', '대응', '하', '는', '나라', '도', '있', '지만', ',', '이렇', '게', '어렵', 'ㄹ', '때', '이', 'ㄹ수록', '한', '미', '동맹', '을', '안보', '동맹', '이', '자', '경제', '동맹', '으로', '더욱', '튼튼하', '게', '격상', '시키', '어', '나가', '는', '것', '이', '보다', '슬기', '롭', 'ㄴ', '해법', '”', '이라고', '주장', '하', '았', '다', '.', '<', '/', 'p', '>']\n"
     ]
    }
   ],
   "source": [
    "import numpy as np \n",
    "from tqdm.notebook import tqdm\n",
    "tqdm.pandas()\n",
    "\n",
    "def tokenize(tokenizer, text):\n",
    "    \"\"\"\n",
    "    Tokenize the text using the Bareun tokenizer.\n",
    "    \"\"\"\n",
    "    if isinstance(text, str) and text.strip():  # 문자열인지 확인하고 비어 있지 않은지 확인\n",
    "        result = tokenizer.tokenize(text).segments()\n",
    "        return result\n",
    "    return np.nan  # text가 유효하지 않으면 np.nan 반환\n",
    "\n",
    "\n",
    "# toekenize\n",
    "tokenizer = Tokenizer(API_KEY, 'localhost', port=5757)\n",
    "tokenized = df[\"description\"].progress_apply(lambda x: tokenize(tokenizer, x))\n",
    "print(tokenized[0])"
   ]
  },
  {
   "cell_type": "code",
   "execution_count": null,
   "id": "efdce71b",
   "metadata": {},
   "outputs": [],
   "source": []
  },
  {
   "cell_type": "code",
   "execution_count": null,
   "id": "35b2643d",
   "metadata": {},
   "outputs": [
    {
     "name": "stdout",
     "output_type": "stream",
     "text": [
      "['안녕', '하', '시', '어요', '.', '반갑', '어요', '!', '이', '문장', '은', '테스트', '문장', '이', 'ㅂ니다', '.']\n"
     ]
    }
   ],
   "source": [
    "# If you have your own localhost bareun.\n",
    "tokenizer = Tokenizer(API_KEY, 'localhost', port=5757)\n",
    "\n",
    "# print results.\n",
    "text =\"안녕하세요. 반가워요! 이 문장은 테스트 문장입니다.\"\n",
    "tokenized = tokenizer.tokenize(text)\n",
    "# m = tokenized.msg()\n",
    "# tmp = tf.PrintMessage(m, out=sys.stdout, as_utf8=True)\n",
    "# print(\"Tokenized Text:\", tmp)\n",
    "\n",
    "jo = tokenized.segments()\n",
    "print(jo)\n",
    "\n",
    "\n"
   ]
  }
 ],
 "metadata": {
  "kernelspec": {
   "display_name": "thread",
   "language": "python",
   "name": "python3"
  },
  "language_info": {
   "codemirror_mode": {
    "name": "ipython",
    "version": 3
   },
   "file_extension": ".py",
   "mimetype": "text/x-python",
   "name": "python",
   "nbconvert_exporter": "python",
   "pygments_lexer": "ipython3",
   "version": "3.10.16"
  }
 },
 "nbformat": 4,
 "nbformat_minor": 5
}
